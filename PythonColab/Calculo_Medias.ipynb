{
  "nbformat": 4,
  "nbformat_minor": 0,
  "metadata": {
    "colab": {
      "name": "Calculo Medias - 1tentativa",
      "provenance": [],
      "collapsed_sections": [],
      "authorship_tag": "ABX9TyNxH+GNFS19Fq9PAb7WKyez"
    },
    "kernelspec": {
      "name": "python3",
      "display_name": "Python 3"
    }
  },
  "cells": [
    {
      "cell_type": "markdown",
      "metadata": {
        "id": "biRrb_N4pjCx",
        "colab_type": "text"
      },
      "source": [
        "#1º Algoritmo para cálculo de Média e Situação\n",
        " Na primeira tentativa, não usei o comando 'def'. Então era necessário rodar o código inteiro toda vez que fosse necessário calcular novas médias.<br>\n",
        "Agora, com as funções 'def' utilizadas, para o cálculo basta chamar media() que aparecerá os inputbox para as notas da P1 e P2."
      ]
    },
    {
      "cell_type": "code",
      "metadata": {
        "id": "KSIWPG4zfRl3",
        "colab_type": "code",
        "colab": {}
      },
      "source": [
        "\n",
        "def prova(nota1, nota2):\n",
        "  media = (nota1 + nota2) / 2 \n",
        "  if media<3.0:\n",
        "    print('Média= ',media, '-->REPROVADO')\n",
        "  elif media<7.0:\n",
        "    print('Média= ',media, '-->Voce caiu no sistema da universidade, e mesmo sabendo a materia deverá fazer outra prova')\n",
        "  else:\n",
        "    print(media, '-->APROVADO')\n"
      ],
      "execution_count": 0,
      "outputs": []
    },
    {
      "cell_type": "code",
      "metadata": {
        "id": "mNDQKrvwjdmp",
        "colab_type": "code",
        "colab": {}
      },
      "source": [
        "def media():\n",
        "  n1 = float(input('P1: '))\n",
        "  n2 = float(input('P2: '))\n",
        "  result = prova(n1, n2)\n",
        "  print(result)"
      ],
      "execution_count": 0,
      "outputs": []
    },
    {
      "cell_type": "code",
      "metadata": {
        "id": "n82wvgRrwV4R",
        "colab_type": "code",
        "outputId": "e99841b3-03ee-4044-e865-4aad60257280",
        "colab": {
          "base_uri": "https://localhost:8080/",
          "height": 85
        }
      },
      "source": [
        "media()"
      ],
      "execution_count": 0,
      "outputs": [
        {
          "output_type": "stream",
          "text": [
            "P1: 6\n",
            "P2: 9\n",
            "7.5 -->APROVADO\n",
            "None\n"
          ],
          "name": "stdout"
        }
      ]
    },
    {
      "cell_type": "code",
      "metadata": {
        "id": "x6jC5VoNwXJ_",
        "colab_type": "code",
        "outputId": "7a0a7978-fe6d-42e3-a65b-3429b45a69b8",
        "colab": {
          "base_uri": "https://localhost:8080/",
          "height": 85
        }
      },
      "source": [
        "media()"
      ],
      "execution_count": 0,
      "outputs": [
        {
          "output_type": "stream",
          "text": [
            "P1: 1\n",
            "P2: 2\n",
            "Média=  1.5 -->REPROVADO\n",
            "None\n"
          ],
          "name": "stdout"
        }
      ]
    },
    {
      "cell_type": "code",
      "metadata": {
        "id": "GF1yZfuU2XHa",
        "colab_type": "code",
        "outputId": "5b0270e7-24dc-4beb-df9d-6afdd4424c66",
        "colab": {
          "base_uri": "https://localhost:8080/",
          "height": 85
        }
      },
      "source": [
        "media()"
      ],
      "execution_count": 0,
      "outputs": [
        {
          "output_type": "stream",
          "text": [
            "P1: 5\n",
            "P2: 6\n",
            "Média=  5.5 -->Voce caiu no sistema da universidade, e mesmo sabendo a materia deverá fazer outra prova\n",
            "None\n"
          ],
          "name": "stdout"
        }
      ]
    }
  ]
}
