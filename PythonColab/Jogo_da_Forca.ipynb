{
  "nbformat": 4,
  "nbformat_minor": 0,
  "metadata": {
    "colab": {
      "name": "Jogo_da_Forca.ipynb",
      "provenance": []
    },
    "kernelspec": {
      "name": "python3",
      "display_name": "Python 3"
    }
  },
  "cells": [
    {
      "cell_type": "code",
      "metadata": {
        "id": "M1v--0CN1DCa",
        "colab_type": "code",
        "colab": {
          "base_uri": "https://localhost:8080/",
          "height": 34
        },
        "outputId": "e1532864-7f6b-474e-dddc-0731df145c3e"
      },
      "source": [
        "print(\"Hello\")"
      ],
      "execution_count": 2,
      "outputs": [
        {
          "output_type": "stream",
          "text": [
            "Hello\n"
          ],
          "name": "stdout"
        }
      ]
    },
    {
      "cell_type": "code",
      "metadata": {
        "id": "fyb6iOwO1Wtb",
        "colab_type": "code",
        "colab": {}
      },
      "source": [
        "import random\n",
        "\n",
        "def get_word():\n",
        "    lista_palavras = ['gata', 'cão', 'lagarto', 'centopéia', 'boi']\n",
        "    word = random.choice(lista_palavras)\n",
        "    return word.upper()"
      ],
      "execution_count": 3,
      "outputs": []
    },
    {
      "cell_type": "code",
      "metadata": {
        "id": "MlN0L4hN1qWX",
        "colab_type": "code",
        "colab": {}
      },
      "source": [
        "def play(word):\n",
        "    word_completion = \"_\" * len(word) \n",
        "    guessed = False\n",
        "    guessed_letters = []\n",
        "    guessed_words = []\n",
        "    tries = 6\n",
        "    print(f\"JOGO DA FORCA!\\nDica: {len(word)} letras!\")\n",
        "    print(display_hangman(tries))\n",
        "    print(word_completion)\n",
        "    print(\"\\n\")\n",
        "    \n",
        "    while not guessed and tries > 0:\n",
        "        guess = input(\"Adivinhe uma letra ou palavra: \").upper()\n",
        "        if len(guess) == 1 and guess.isalpha():\n",
        "            if guess in guessed_letters:\n",
        "                print(\"Você já tentou \", guess)\n",
        "            elif guess not in word:\n",
        "                print(guess, \"Não.\")\n",
        "                tries -= 1\n",
        "                guessed_letters.append(guess)\n",
        "            else:\n",
        "                print(guess, \"está na palavra!\")\n",
        "                guessed_letters.append(guess)\n",
        "                word_as_list = list(word_completion)\n",
        "                indices = [i for i, letter in enumerate(word) if letter == guess]\n",
        "                for index in indices:\n",
        "                    word_as_list[index] = guess\n",
        "                word_completion = \"\".join(word_as_list)\n",
        "                if \"_\" not in word_completion:\n",
        "                    guessed = True\n",
        "        elif len(guess) == len(word) and guess.isalpha():\n",
        "            if guess in guessed_words:\n",
        "                print(\"Você já tentou a palavra\", guess)\n",
        "            elif guess != word:\n",
        "                print(guess, \"não é a palavra.\")\n",
        "                tries -= 1\n",
        "                guessed_words.append(guess)\n",
        "            else:\n",
        "                guessed = True\n",
        "                word_completion = word\n",
        "        else:\n",
        "            print(\"Inválido.\")\n",
        "        print(display_hangman(tries))\n",
        "        print(word_completion)\n",
        "        print(\"\\n\")\n",
        "    if guessed:\n",
        "        print(\"Parabéns, você adivinhou a palavra! Você venceu!\")\n",
        "    else:\n",
        "        print(\"Você perdeu!. A palavra era \" + word + \".\")"
      ],
      "execution_count": 4,
      "outputs": []
    },
    {
      "cell_type": "code",
      "metadata": {
        "id": "gbPecp_R1u8B",
        "colab_type": "code",
        "colab": {}
      },
      "source": [
        "def display_hangman(tries):\n",
        "    stages = [  # cabeça, tronco e braços e pernas: morte.\n",
        "                \"\"\"\n",
        "                   --------\n",
        "                   |      |\n",
        "                   |      O\n",
        "                   |     \\|/\n",
        "                   |      |\n",
        "                   |     / \\\n",
        "                   -\n",
        "                \"\"\",\n",
        "                # cabeça, tronco e braços, perna\n",
        "                \"\"\"\n",
        "                   --------\n",
        "                   |      |\n",
        "                   |      O\n",
        "                   |     \\|/\n",
        "                   |      |\n",
        "                   |     / \n",
        "                   -\n",
        "                \"\"\",\n",
        "                # cabeça, tronco e braços\n",
        "                \"\"\"\n",
        "                   --------\n",
        "                   |      |\n",
        "                   |      O\n",
        "                   |     \\|/\n",
        "                   |      |\n",
        "                   |      \n",
        "                   -\n",
        "                \"\"\",\n",
        "                # cabeça, tronco e braço\n",
        "                \"\"\"\n",
        "                   --------\n",
        "                   |      |\n",
        "                   |      O\n",
        "                   |     \\|\n",
        "                   |      |\n",
        "                   |     \n",
        "                   -\n",
        "                \"\"\",\n",
        "                # cabeça e tronco\n",
        "                \"\"\"\n",
        "                   --------\n",
        "                   |      |\n",
        "                   |      O\n",
        "                   |      |\n",
        "                   |      |\n",
        "                   |     \n",
        "                   -\n",
        "                \"\"\",\n",
        "                # cabeça\n",
        "                \"\"\"\n",
        "                   --------\n",
        "                   |      |\n",
        "                   |      O\n",
        "                   |    \n",
        "                   |      \n",
        "                   |     \n",
        "                   -\n",
        "                \"\"\",\n",
        "                # vazio\n",
        "                \"\"\"\n",
        "                   --------\n",
        "                   |      |\n",
        "                   |      \n",
        "                   |    \n",
        "                   |      \n",
        "                   |     \n",
        "                   -\n",
        "                \"\"\"\n",
        "    ]\n",
        "    return stages[tries]"
      ],
      "execution_count": 5,
      "outputs": []
    },
    {
      "cell_type": "code",
      "metadata": {
        "id": "rLKSh1vT1zSr",
        "colab_type": "code",
        "colab": {}
      },
      "source": [
        "def main():\n",
        "    word = get_word()\n",
        "    play(word)\n",
        "    while input(\"Jogar de novo? (S/N) \").upper() == \"S\":\n",
        "        word = get_word()\n",
        "        play(word)"
      ],
      "execution_count": 6,
      "outputs": []
    },
    {
      "cell_type": "code",
      "metadata": {
        "id": "GCmz43uGDYOh",
        "colab_type": "code",
        "colab": {}
      },
      "source": [
        "# Chamar a função main() para iniciar o jogo"
      ],
      "execution_count": null,
      "outputs": []
    }
  ]
}