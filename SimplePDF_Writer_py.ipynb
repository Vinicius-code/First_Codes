{
 "cells": [
  {
   "cell_type": "markdown",
   "metadata": {},
   "source": [
    "## PDF Writer "
   ]
  },
  
  "cells": [
    {
      "cell_type": "code",
      "metadata": {
        "id": "8RJ-6zUFtC2w",
        "colab_type": "code",
        "outputId": "583d6b74-b479-4e90-aaf3-39f2223f321c",
        "colab": {
          "base_uri": "https://localhost:8080/",
          "height": 139
        }
      },
      "source": [
        "pip install reportlab"
      ],
      "execution_count": 0,
      "outputs": [
        {
          "output_type": "stream",
          "text": [
            "Collecting reportlab\n",
            "\u001b[?25l  Downloading https://files.pythonhosted.org/packages/63/a2/81b959f0d25660dc466bc0fe675c65e331f3264b4e39254a3b277bef2cec/reportlab-3.5.42-cp36-cp36m-manylinux2010_x86_64.whl (2.6MB)\n",
            "\u001b[K     |████████████████████████████████| 2.6MB 2.8MB/s \n",
            "\u001b[?25hRequirement already satisfied: pillow>=4.0.0 in /usr/local/lib/python3.6/dist-packages (from reportlab) (7.0.0)\n",
            "Installing collected packages: reportlab\n",
            "Successfully installed reportlab-3.5.42\n"
          ],
          "name": "stdout"
        }
      ]
    },
    {
      "cell_type": "code",
      "metadata": {
        "id": "wVCme7W5s3Ig",
        "colab_type": "code",
        "colab": {}
      },
      "source": [
        "from reportlab.graphics.shapes import Drawing,String\n",
        "from reportlab.graphics import renderPDF"
      ],
      "execution_count": 0,
      "outputs": []
    },
    {
      "cell_type": "code",
      "metadata": {
        "id": "Hvx0FFfatMJO",
        "colab_type": "code",
        "colab": {}
      },
      "source": [
        "forma = Drawing(100,100)\n",
        "conteudo = String(50,50,'This is My First Step',textAnchor = 'middle')\n",
        "forma.add(conteudo)\n",
        "renderPDF.drawToFile(forma,'hello.pdf','Hello.World!', autoSize=0)"
      ],
      "execution_count": 0,
      "outputs": []
    }
  ]
}
