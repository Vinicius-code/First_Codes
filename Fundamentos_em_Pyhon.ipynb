{
  "nbformat": 4,
  "nbformat_minor": 0,
  "metadata": {
    "colab": {
      "name": "Fundamentos_em_Pyhon.ipynb",
      "provenance": [],
      "collapsed_sections": [
        "blkXmaN4bwzU",
        "fF86Y11CcH-t",
        "iSVkee19DfVK",
        "9CL13GP7l0gb",
        "xQCkO867cpu1",
        "fc85ML8bcsbR",
        "lm-dZvAocvaa",
        "0_z3UtuaXNHU"
      ],
      "include_colab_link": true
    },
    "kernelspec": {
      "name": "python3",
      "display_name": "Python 3"
    }
  },
  "cells": [
    {
      "cell_type": "markdown",
      "metadata": {
        "id": "view-in-github",
        "colab_type": "text"
      },
      "source": [
        "<a href=\"https://colab.research.google.com/github/Vinicius-code/MyFirstSteps/blob/master/Fundamentos_em_Pyhon.ipynb\" target=\"_parent\"><img src=\"https://colab.research.google.com/assets/colab-badge.svg\" alt=\"Open In Colab\"/></a>"
      ]
    },
    {
      "cell_type": "markdown",
      "metadata": {
        "id": "l16RNmVia3Gq",
        "colab_type": "text"
      },
      "source": [
        "# Python\n",
        "\n",
        "---\n",
        "\n"
      ]
    },
    {
      "cell_type": "markdown",
      "metadata": {
        "id": "blkXmaN4bwzU",
        "colab_type": "text"
      },
      "source": [
        "## Operações básicas"
      ]
    },
    {
      "cell_type": "code",
      "metadata": {
        "id": "vBNGWECAa0eC",
        "colab_type": "code",
        "colab": {
          "base_uri": "https://localhost:8080/",
          "height": 51
        },
        "outputId": "98f41278-d472-4271-c6cc-4e7b6e797083"
      },
      "source": [
        "nome = input(\"Qual é o seu nome? \")\n",
        "print(f\"Hello {nome} \")"
      ],
      "execution_count": null,
      "outputs": [
        {
          "output_type": "stream",
          "text": [
            "Qual é o seu nome? oi\n",
            "Hello oi \n"
          ],
          "name": "stdout"
        }
      ]
    },
    {
      "cell_type": "code",
      "metadata": {
        "id": "lcx3CpRCGnxn",
        "colab_type": "code",
        "colab": {
          "base_uri": "https://localhost:8080/",
          "height": 34
        },
        "outputId": "22bb05a1-af2e-468f-f643-e423425e8b30"
      },
      "source": [
        "#1.\n",
        "print(\"Alo Mundo\")"
      ],
      "execution_count": null,
      "outputs": [
        {
          "output_type": "stream",
          "text": [
            "Alo Mundo\n"
          ],
          "name": "stdout"
        }
      ]
    },
    {
      "cell_type": "code",
      "metadata": {
        "id": "qtQdVbhU_j7K",
        "colab_type": "code",
        "colab": {
          "base_uri": "https://localhost:8080/",
          "height": 51
        },
        "outputId": "9c6e17f9-c336-4222-942c-cebc001f9765"
      },
      "source": [
        "#2.\n",
        "numero = input(\"Digite um número: \")\n",
        "print(f\"O número informado foi {numero}\")"
      ],
      "execution_count": null,
      "outputs": [
        {
          "output_type": "stream",
          "text": [
            "Digite um número: 5\n",
            "O número informado foi 5\n"
          ],
          "name": "stdout"
        }
      ]
    },
    {
      "cell_type": "code",
      "metadata": {
        "id": "1MbCCNdHHL4B",
        "colab_type": "code",
        "colab": {
          "base_uri": "https://localhost:8080/",
          "height": 68
        },
        "outputId": "770a8b74-555e-4dae-f303-b75f41ffad12"
      },
      "source": [
        "#3.\n",
        "num1 = int(input(\"Numero 1: \"))\n",
        "num2 = int(input(\"Numero 2: \"))\n",
        "soma = num1 + num2\n",
        "\n",
        "print(f\"A soma é {soma}\")"
      ],
      "execution_count": null,
      "outputs": [
        {
          "output_type": "stream",
          "text": [
            "Numero 1: 8\n",
            "Numero 2: 4\n",
            "A soma é 12\n"
          ],
          "name": "stdout"
        }
      ]
    },
    {
      "cell_type": "code",
      "metadata": {
        "id": "wtspfW00IWWo",
        "colab_type": "code",
        "colab": {
          "base_uri": "https://localhost:8080/",
          "height": 85
        },
        "outputId": "4f46964b-fe51-4a0e-c952-7dd75870b012"
      },
      "source": [
        "#4.\n",
        "\n",
        "num1 = int(input(\"N1: \"))\n",
        "num2 = int(input(\"N2: \"))\n",
        "num3 = int(input(\"N3: \"))\n",
        "\n",
        "Notas = [num1, num2, num3]\n",
        "\n",
        "tot = len(Notas)\n",
        "soma = sum(Notas)\n",
        "print(\"A media é \", soma/tot)\n"
      ],
      "execution_count": null,
      "outputs": [
        {
          "output_type": "stream",
          "text": [
            "N1: 3\n",
            "N2: 5\n",
            "N3: 5\n",
            "A media é  4.333333333333333\n"
          ],
          "name": "stdout"
        }
      ]
    },
    {
      "cell_type": "markdown",
      "metadata": {
        "id": "fF86Y11CcH-t",
        "colab_type": "text"
      },
      "source": [
        "## Operadores\n",
        "\n",
        "### Lógicos:\n",
        "![alt text](https://image.slidesharecdn.com/apresentao-170510192311/95/captulo-2-python-6-638.jpg?cb=1494444228)"
      ]
    },
    {
      "cell_type": "code",
      "metadata": {
        "id": "9KiF8V3ocQZM",
        "colab_type": "code",
        "colab": {
          "base_uri": "https://localhost:8080/",
          "height": 34
        },
        "outputId": "141bf7c2-db7f-4dff-f975-7397e3445903"
      },
      "source": [
        "# SOMA\n",
        "1+1"
      ],
      "execution_count": null,
      "outputs": [
        {
          "output_type": "execute_result",
          "data": {
            "text/plain": [
              "2"
            ]
          },
          "metadata": {
            "tags": []
          },
          "execution_count": 1
        }
      ]
    },
    {
      "cell_type": "code",
      "metadata": {
        "id": "LX-sHjk2cS_m",
        "colab_type": "code",
        "colab": {
          "base_uri": "https://localhost:8080/",
          "height": 34
        },
        "outputId": "73e2d31d-47e6-42a9-d4c9-7dc4422b2399"
      },
      "source": [
        "# SUBTRAÇÃO\n",
        "1-1"
      ],
      "execution_count": null,
      "outputs": [
        {
          "output_type": "execute_result",
          "data": {
            "text/plain": [
              "0"
            ]
          },
          "metadata": {
            "tags": []
          },
          "execution_count": 2
        }
      ]
    },
    {
      "cell_type": "code",
      "metadata": {
        "id": "4E7cwx1OcU9R",
        "colab_type": "code",
        "colab": {
          "base_uri": "https://localhost:8080/",
          "height": 34
        },
        "outputId": "2f1999e2-828e-46ed-fa6d-7c85231b5f52"
      },
      "source": [
        "# MULTIPLICAÇÃO\n",
        "1*10"
      ],
      "execution_count": null,
      "outputs": [
        {
          "output_type": "execute_result",
          "data": {
            "text/plain": [
              "10"
            ]
          },
          "metadata": {
            "tags": []
          },
          "execution_count": 3
        }
      ]
    },
    {
      "cell_type": "code",
      "metadata": {
        "id": "fPVGehO0cXAn",
        "colab_type": "code",
        "colab": {
          "base_uri": "https://localhost:8080/",
          "height": 34
        },
        "outputId": "0930388a-b7d1-4b80-9e34-4746d2dedf83"
      },
      "source": [
        "# DIVISÃO\n",
        "100 / 3"
      ],
      "execution_count": null,
      "outputs": [
        {
          "output_type": "execute_result",
          "data": {
            "text/plain": [
              "33.333333333333336"
            ]
          },
          "metadata": {
            "tags": []
          },
          "execution_count": 4
        }
      ]
    },
    {
      "cell_type": "code",
      "metadata": {
        "id": "4G7MTi1IcZ1K",
        "colab_type": "code",
        "colab": {
          "base_uri": "https://localhost:8080/",
          "height": 34
        },
        "outputId": "69bc8730-397f-4c54-e32c-7f2fb4dcba4d"
      },
      "source": [
        "# EXPONENCIAÇÃO\n",
        "4**2"
      ],
      "execution_count": null,
      "outputs": [
        {
          "output_type": "execute_result",
          "data": {
            "text/plain": [
              "16"
            ]
          },
          "metadata": {
            "tags": []
          },
          "execution_count": 5
        }
      ]
    },
    {
      "cell_type": "code",
      "metadata": {
        "id": "KYruAyCx24b8",
        "colab_type": "code",
        "colab": {
          "base_uri": "https://localhost:8080/",
          "height": 34
        },
        "outputId": "c5eb1071-42e6-4a30-ea2e-da8adbfcd67c"
      },
      "source": [
        "# RESTO DIVISÃO\n",
        "\n",
        "5 % 4"
      ],
      "execution_count": null,
      "outputs": [
        {
          "output_type": "execute_result",
          "data": {
            "text/plain": [
              "1"
            ]
          },
          "metadata": {
            "tags": []
          },
          "execution_count": 6
        }
      ]
    },
    {
      "cell_type": "code",
      "metadata": {
        "id": "_IOdfcNsCp4h",
        "colab_type": "code",
        "colab": {
          "base_uri": "https://localhost:8080/",
          "height": 132
        },
        "outputId": "bd9b4d0d-31c8-43db-d924-a9f03345a942"
      },
      "source": [
        "def Divisao(numero1,numero2):\n",
        "  divisao = numero1/numero2\n",
        "\n",
        "  resto = numero1 % numero2\n",
        "\n",
        "  if resto != 0:\n",
        "    print(numero1,' não é divisível por ', numero2)\n",
        "  else:\n",
        "    print(numero1, ' é divisível por ', numero2)\n",
        "\n",
        "  print('Resultado:',divisao)\n",
        "\n",
        "  if resto == 0:\n",
        "    print('') \n",
        "  else:\n",
        "    print('Resto', resto)"
      ],
      "execution_count": null,
      "outputs": [
        {
          "output_type": "error",
          "ename": "SyntaxError",
          "evalue": "ignored",
          "traceback": [
            "\u001b[0;36m  File \u001b[0;32m\"<ipython-input-11-36b1974f97fc>\"\u001b[0;36m, line \u001b[0;32m17\u001b[0m\n\u001b[0;31m    return 2\u001b[0m\n\u001b[0m            ^\u001b[0m\n\u001b[0;31mSyntaxError\u001b[0m\u001b[0;31m:\u001b[0m 'return' outside function\n"
          ]
        }
      ]
    },
    {
      "cell_type": "code",
      "metadata": {
        "id": "hgYmyOu_HLGX",
        "colab_type": "code",
        "colab": {
          "base_uri": "https://localhost:8080/",
          "height": 70
        },
        "outputId": "0dec89a6-b59d-469b-f723-8dce17cce976"
      },
      "source": [
        "Divisao(15050,5)"
      ],
      "execution_count": null,
      "outputs": [
        {
          "output_type": "stream",
          "text": [
            "15050  é divisível por  5\n",
            "Resultado: 3010.0\n",
            "\n"
          ],
          "name": "stdout"
        }
      ]
    },
    {
      "cell_type": "markdown",
      "metadata": {
        "id": "iSVkee19DfVK",
        "colab_type": "text"
      },
      "source": [
        "## Tipos de Dados\n",
        "\n",
        "---\n",
        "\n",
        "* Inteiros:  declarados com **int()**\n",
        "<br>\n",
        "Exemplo de inteiros: 4, -234455, 21543...\n",
        "<br><br>\n",
        "* Flutuantes:  conhecidos como floating, são números decimais, declarados com **float()**\n",
        "<br>\n",
        "Exemplo de flutuantes: 4.0, -23.5, 215.43\n",
        "<br><br>\n",
        "* Booleanos:  conhecidos como lógicos, temos \"True\" ou \"False\", declarados com **bool()**\n",
        "<br>\n",
        "Exemplo de booleanos: True, False\n",
        "<br><br>\n",
        "* Strings:  conhecidos como cadeia de caracteres, inseridos entre aspas(duplas ou simples), declarados com **str()**\n",
        "<br>\n",
        "Exemplo de strings: \"oi!\", \"27\", \"23.50\""
      ]
    },
    {
      "cell_type": "code",
      "metadata": {
        "id": "OlMlroryFdgo",
        "colab_type": "code",
        "colab": {
          "base_uri": "https://localhost:8080/",
          "height": 34
        },
        "outputId": "bb33d05a-38f3-4e5e-b2bb-b9b48a6656e5"
      },
      "source": [
        "inteiro = 12\n",
        "type(inteiro)"
      ],
      "execution_count": null,
      "outputs": [
        {
          "output_type": "execute_result",
          "data": {
            "text/plain": [
              "int"
            ]
          },
          "metadata": {
            "tags": []
          },
          "execution_count": 7
        }
      ]
    },
    {
      "cell_type": "code",
      "metadata": {
        "id": "RzwqRmHBFpf3",
        "colab_type": "code",
        "colab": {
          "base_uri": "https://localhost:8080/",
          "height": 34
        },
        "outputId": "d3553d17-11bf-4182-cd85-cb36b8c02f8a"
      },
      "source": [
        "flutuante = 12.5\n",
        "type(flutuante)"
      ],
      "execution_count": null,
      "outputs": [
        {
          "output_type": "execute_result",
          "data": {
            "text/plain": [
              "float"
            ]
          },
          "metadata": {
            "tags": []
          },
          "execution_count": 8
        }
      ]
    },
    {
      "cell_type": "code",
      "metadata": {
        "id": "4_ZeW7grFpos",
        "colab_type": "code",
        "colab": {
          "base_uri": "https://localhost:8080/",
          "height": 34
        },
        "outputId": "168f3f72-39dc-48cf-bca2-d55d1adaa5a8"
      },
      "source": [
        "booleano = True\n",
        "type(booleano)"
      ],
      "execution_count": null,
      "outputs": [
        {
          "output_type": "execute_result",
          "data": {
            "text/plain": [
              "bool"
            ]
          },
          "metadata": {
            "tags": []
          },
          "execution_count": 9
        }
      ]
    },
    {
      "cell_type": "code",
      "metadata": {
        "id": "Wq9c8PjfFpyo",
        "colab_type": "code",
        "colab": {
          "base_uri": "https://localhost:8080/",
          "height": 34
        },
        "outputId": "f99cd9cd-282b-4cb6-fd46-45e558d661eb"
      },
      "source": [
        "caracter = \"Olá, mundo!\"\n",
        "type(caracter)"
      ],
      "execution_count": null,
      "outputs": [
        {
          "output_type": "execute_result",
          "data": {
            "text/plain": [
              "str"
            ]
          },
          "metadata": {
            "tags": []
          },
          "execution_count": 10
        }
      ]
    },
    {
      "cell_type": "code",
      "metadata": {
        "id": "kHcCZadvYyyH",
        "colab_type": "code",
        "colab": {
          "base_uri": "https://localhost:8080/",
          "height": 185
        },
        "outputId": "1ec74b4f-dc6c-47fa-bde5-c5e3ab4d3b95"
      },
      "source": [
        "# VOCÊ PODE ALTERAR ALGUNS TIPOS DE DADOS\n",
        "10.45 - \"joão\""
      ],
      "execution_count": null,
      "outputs": [
        {
          "output_type": "error",
          "ename": "TypeError",
          "evalue": "ignored",
          "traceback": [
            "\u001b[0;31m---------------------------------------------------------------------------\u001b[0m",
            "\u001b[0;31mTypeError\u001b[0m                                 Traceback (most recent call last)",
            "\u001b[0;32m<ipython-input-11-f8f4bec18fa3>\u001b[0m in \u001b[0;36m<module>\u001b[0;34m()\u001b[0m\n\u001b[1;32m      1\u001b[0m \u001b[0;31m# VOCÊ PODE ALTERAR ALGUNS TIPOS DE DADOS\u001b[0m\u001b[0;34m\u001b[0m\u001b[0;34m\u001b[0m\u001b[0;34m\u001b[0m\u001b[0m\n\u001b[0;32m----> 2\u001b[0;31m \u001b[0;36m10.45\u001b[0m \u001b[0;34m-\u001b[0m \u001b[0;34m\"joão\"\u001b[0m\u001b[0;34m\u001b[0m\u001b[0;34m\u001b[0m\u001b[0m\n\u001b[0m",
            "\u001b[0;31mTypeError\u001b[0m: unsupported operand type(s) for -: 'float' and 'str'"
          ]
        }
      ]
    },
    {
      "cell_type": "code",
      "metadata": {
        "id": "yUu5kdhXBRoO",
        "colab_type": "code",
        "colab": {
          "base_uri": "https://localhost:8080/",
          "height": 132
        },
        "outputId": "fa1257a0-9408-465e-9e69-4be1afa0270a"
      },
      "source": [
        "#VARIÁVEIS não permitidas\n",
        "\n",
        "# Caractere especial, numero, palavras reservadas\n",
        "\n",
        "\n",
        "1nome = \"Vinicius\""
      ],
      "execution_count": null,
      "outputs": [
        {
          "output_type": "error",
          "ename": "SyntaxError",
          "evalue": "ignored",
          "traceback": [
            "\u001b[0;36m  File \u001b[0;32m\"<ipython-input-1-2a7cd23344d9>\"\u001b[0;36m, line \u001b[0;32m6\u001b[0m\n\u001b[0;31m    1nome = \"Vinicius\"\u001b[0m\n\u001b[0m        ^\u001b[0m\n\u001b[0;31mSyntaxError\u001b[0m\u001b[0;31m:\u001b[0m invalid syntax\n"
          ]
        }
      ]
    },
    {
      "cell_type": "code",
      "metadata": {
        "id": "lclPABieBfna",
        "colab_type": "code",
        "colab": {
          "base_uri": "https://localhost:8080/",
          "height": 132
        },
        "outputId": "3cd61ef2-68a6-48ea-c007-26ee6c3c8c8d"
      },
      "source": [
        "n@me = \"vinicius\""
      ],
      "execution_count": null,
      "outputs": [
        {
          "output_type": "error",
          "ename": "SyntaxError",
          "evalue": "ignored",
          "traceback": [
            "\u001b[0;36m  File \u001b[0;32m\"<ipython-input-2-7c419204d6f8>\"\u001b[0;36m, line \u001b[0;32m1\u001b[0m\n\u001b[0;31m    n@me = \"vinicius\"\u001b[0m\n\u001b[0m                     ^\u001b[0m\n\u001b[0;31mSyntaxError\u001b[0m\u001b[0;31m:\u001b[0m can't assign to operator\n"
          ]
        }
      ]
    },
    {
      "cell_type": "markdown",
      "metadata": {
        "id": "WvA2AYQRBjgD",
        "colab_type": "text"
      },
      "source": [
        "##Variáveis não permitidas\n",
        "\n",
        "* Começando com número\n",
        "* Caractere especial\n",
        "* Espaço no nome\n",
        "* Palavras reservadas\n",
        "  * 33 palavras reservadas que não podem atribuir função ou variável:\n",
        "  * --> and; del; from; None; True;\n",
        "as; elif; global; nonlocal; try;\n",
        "assert; else; if; not; while;\n",
        "break; except; import; or; with;\n",
        "class; False; in; pass; yield;\n",
        "continue; finaly; is; raise; def;\n",
        "for; lambda; return;\n",
        "\n"
      ]
    },
    {
      "cell_type": "markdown",
      "metadata": {
        "id": "9CL13GP7l0gb",
        "colab_type": "text"
      },
      "source": [
        "## Estruturas de Dados"
      ]
    },
    {
      "cell_type": "code",
      "metadata": {
        "id": "pUotkSEWl8P3",
        "colab_type": "code",
        "colab": {}
      },
      "source": [
        "# LISTA\n",
        "lista1 = []\n",
        "lista2 = ['josé', 'maria']\n",
        "lista3 = ['oi', 3.0, 40, True]"
      ],
      "execution_count": null,
      "outputs": []
    },
    {
      "cell_type": "code",
      "metadata": {
        "id": "MYUvv9aIDPvh",
        "colab_type": "code",
        "colab": {
          "base_uri": "https://localhost:8080/",
          "height": 834
        },
        "outputId": "eb6b5ac9-40c6-4554-c145-de72c1991929"
      },
      "source": [
        "#dir significa tudo aquilo que você pode executar com aquela lista\n",
        "dir(lista1)"
      ],
      "execution_count": null,
      "outputs": [
        {
          "output_type": "execute_result",
          "data": {
            "text/plain": [
              "['__add__',\n",
              " '__class__',\n",
              " '__contains__',\n",
              " '__delattr__',\n",
              " '__delitem__',\n",
              " '__dir__',\n",
              " '__doc__',\n",
              " '__eq__',\n",
              " '__format__',\n",
              " '__ge__',\n",
              " '__getattribute__',\n",
              " '__getitem__',\n",
              " '__gt__',\n",
              " '__hash__',\n",
              " '__iadd__',\n",
              " '__imul__',\n",
              " '__init__',\n",
              " '__init_subclass__',\n",
              " '__iter__',\n",
              " '__le__',\n",
              " '__len__',\n",
              " '__lt__',\n",
              " '__mul__',\n",
              " '__ne__',\n",
              " '__new__',\n",
              " '__reduce__',\n",
              " '__reduce_ex__',\n",
              " '__repr__',\n",
              " '__reversed__',\n",
              " '__rmul__',\n",
              " '__setattr__',\n",
              " '__setitem__',\n",
              " '__sizeof__',\n",
              " '__str__',\n",
              " '__subclasshook__',\n",
              " 'append',\n",
              " 'clear',\n",
              " 'copy',\n",
              " 'count',\n",
              " 'extend',\n",
              " 'index',\n",
              " 'insert',\n",
              " 'pop',\n",
              " 'remove',\n",
              " 'reverse',\n",
              " 'sort']"
            ]
          },
          "metadata": {
            "tags": []
          },
          "execution_count": 13
        }
      ]
    },
    {
      "cell_type": "code",
      "metadata": {
        "id": "M70VY-ALGlgy",
        "colab_type": "code",
        "colab": {
          "base_uri": "https://localhost:8080/",
          "height": 34
        },
        "outputId": "8a598473-084c-4ee6-e9be-184fc78ab5c3"
      },
      "source": [
        "lista1.insert(1, \"olá\")\n",
        "lista1"
      ],
      "execution_count": null,
      "outputs": [
        {
          "output_type": "execute_result",
          "data": {
            "text/plain": [
              "['olá']"
            ]
          },
          "metadata": {
            "tags": []
          },
          "execution_count": 14
        }
      ]
    },
    {
      "cell_type": "code",
      "metadata": {
        "id": "cQuLi91il-fd",
        "colab_type": "code",
        "colab": {
          "base_uri": "https://localhost:8080/",
          "height": 34
        },
        "outputId": "610a3842-ea7f-40ef-8552-71505efd96e1"
      },
      "source": [
        "# TUPLAS\n",
        "'''\n",
        "Comentario \n",
        "com \n",
        "parágrafo\n",
        "\n",
        "'''\n",
        "tup = (1,2,3)\n",
        "#dir(tup)\n",
        "tup.count(4)"
      ],
      "execution_count": null,
      "outputs": [
        {
          "output_type": "execute_result",
          "data": {
            "text/plain": [
              "0"
            ]
          },
          "metadata": {
            "tags": []
          },
          "execution_count": 15
        }
      ]
    },
    {
      "cell_type": "code",
      "metadata": {
        "id": "hn8I4j62mNkp",
        "colab_type": "code",
        "colab": {
          "base_uri": "https://localhost:8080/",
          "height": 34
        },
        "outputId": "112794cd-4f46-4191-abaa-46a4974e38e2"
      },
      "source": [
        "# SETS\n",
        "set1 = ({1,2,3})\n",
        "set2 = set([1,2,3])\n",
        "set1.pop()"
      ],
      "execution_count": null,
      "outputs": [
        {
          "output_type": "execute_result",
          "data": {
            "text/plain": [
              "1"
            ]
          },
          "metadata": {
            "tags": []
          },
          "execution_count": 16
        }
      ]
    },
    {
      "cell_type": "code",
      "metadata": {
        "id": "WwCo0_JtmP-u",
        "colab_type": "code",
        "colab": {
          "base_uri": "https://localhost:8080/",
          "height": 34
        },
        "outputId": "79fe008c-5fd4-4ace-ec41-2da9424d0429"
      },
      "source": [
        "# DICIONARIOS\n",
        "pessoas = {\n",
        "    \"name\": \"joao\",\n",
        "    \"age\": 39, \n",
        "    \"skills\": ['python', 'r', 'java']\n",
        "}\n",
        "print(pessoas)"
      ],
      "execution_count": null,
      "outputs": [
        {
          "output_type": "stream",
          "text": [
            "{'name': 'joao', 'age': 39, 'skills': ['python', 'r', 'java']}\n"
          ],
          "name": "stdout"
        }
      ]
    },
    {
      "cell_type": "markdown",
      "metadata": {
        "id": "IuQJiPQiXf1c",
        "colab_type": "text"
      },
      "source": [
        "Vetor Associativo:<br>\n",
        "<b>Um vetor associativo é uma estrutura de dados composta de um conjunto não-ordenado de itens formados por um par chave e valor, no qual cada chave possui um valor associado.</b> Essas chaves são definidas pelo usuário e devem ser armazenadas na estrutura. O relacionamento existente entre as chaves e seus respectivos valores é chamado de mapeamento, pois para buscar um valor utiliza-se a chave como índice de busca. Na implementação de um vetor associativo, os elementos são armazenados e recuperados com funções de dispersão. Pode-se buscar o valor de um elemento pela chave e também verificar se existe algum elemento relacionado àquela chave.\n",
        "\n",
        "A principal vantagem existente na utilização de vetores associativos está na facilidade de realização de buscas por valores. Porém, não é tão eficiente quanto um vetor comum quando todos os elementos do vetor devem ser processados.\n",
        "\n",
        "A relação entre uma chave e seu valor as vezes é chamada de mapeamento ou ligação. Por exemplo, se o valor associado à chave \"bob\" é 7, dizemos que nosso vetor mapeia \"bob\" para 7.<b> Vetores associativos estão intimamente relacionados ao conceito matemático de função bijetora com um domínio finito.</b> Como conseqüência, um uso comum e importante de vetores associativos é em memorização.\n"
      ]
    },
    {
      "cell_type": "code",
      "metadata": {
        "id": "VpSBRpqGWiML",
        "colab_type": "code",
        "colab": {
          "base_uri": "https://localhost:8080/",
          "height": 52
        },
        "outputId": "f59f0a2d-b0b9-4dc6-a9b7-693309764cf4"
      },
      "source": [
        "print(pessoas[\"name\"])\n",
        "print(pessoas.keys())"
      ],
      "execution_count": null,
      "outputs": [
        {
          "output_type": "stream",
          "text": [
            "joao\n",
            "dict_keys(['name', 'age', 'skills'])\n"
          ],
          "name": "stdout"
        }
      ]
    },
    {
      "cell_type": "markdown",
      "metadata": {
        "id": "xQCkO867cpu1",
        "colab_type": "text"
      },
      "source": [
        "## Condicionais"
      ]
    },
    {
      "cell_type": "code",
      "metadata": {
        "id": "1dccn0dLcsG2",
        "colab_type": "code",
        "colab": {
          "base_uri": "https://localhost:8080/",
          "height": 34
        },
        "outputId": "d177555c-a8aa-4f9f-a507-0065198d0f40"
      },
      "source": [
        "# IF\n",
        "if 100 > 99:\n",
        "  print(\"100 é maior que 99!\")"
      ],
      "execution_count": null,
      "outputs": [
        {
          "output_type": "stream",
          "text": [
            "100 é maior que 99!\n"
          ],
          "name": "stdout"
        }
      ]
    },
    {
      "cell_type": "code",
      "metadata": {
        "id": "k56YVoZIddjj",
        "colab_type": "code",
        "colab": {
          "base_uri": "https://localhost:8080/",
          "height": 34
        },
        "outputId": "79e7931a-bfcb-43fa-d27a-14c62f2ad422"
      },
      "source": [
        "# IF, ELSE\n",
        "if 100 == 99:\n",
        "  print(\"100 e 99 são iguais!\")\n",
        "else:\n",
        "  print(\"100 é diferente de 99\")\n"
      ],
      "execution_count": null,
      "outputs": [
        {
          "output_type": "stream",
          "text": [
            "100 é diferente de 99\n"
          ],
          "name": "stdout"
        }
      ]
    },
    {
      "cell_type": "code",
      "metadata": {
        "id": "VM88dXCpdfpa",
        "colab_type": "code",
        "colab": {
          "base_uri": "https://localhost:8080/",
          "height": 34
        },
        "outputId": "27fdec09-035e-4e16-dce1-3fd178d93751"
      },
      "source": [
        "# IF, ELIF, ELSE\n",
        "if 100 == 99:\n",
        "  print(\"100 e 99 são iguais!\")\n",
        "elif 100 > 99:\n",
        "  print(\"100 é maior que 99!\")\n",
        "else:\n",
        "  print(\"100 é menor que 99!\")"
      ],
      "execution_count": null,
      "outputs": [
        {
          "output_type": "stream",
          "text": [
            "100 é maior que 99!\n"
          ],
          "name": "stdout"
        }
      ]
    },
    {
      "cell_type": "code",
      "metadata": {
        "id": "UFE9IqgYJcOQ",
        "colab_type": "code",
        "colab": {
          "base_uri": "https://localhost:8080/",
          "height": 52
        },
        "outputId": "fbd1876f-d89c-4c68-8103-393b6b84ebe4"
      },
      "source": [
        "num1 = int(input(\"\"))\n",
        "\n",
        "if num1 > 0:\n",
        "  print(\"O número é positivo!\")\n",
        "else:\n",
        "  print(\"O número é negativo\")"
      ],
      "execution_count": null,
      "outputs": [
        {
          "output_type": "stream",
          "text": [
            "4\n",
            "O número é positivo!\n"
          ],
          "name": "stdout"
        }
      ]
    },
    {
      "cell_type": "code",
      "metadata": {
        "id": "hBqX9trLbSEa",
        "colab_type": "code",
        "colab": {
          "base_uri": "https://localhost:8080/",
          "height": 52
        },
        "outputId": "6ede43cd-a938-4072-f63b-d07a890808b7"
      },
      "source": [
        "vogal = (\"a\", \"e\", \"i\", \"o\", \"u\",\"A\",\"E\", \"I\", \"O\", \"U\")\n",
        "\n",
        "letra = input(\"\")\n",
        "\n",
        "if letra in vogal:\n",
        "  print(\"vogal\")\n",
        "else:\n",
        "  print(\"consoante\")"
      ],
      "execution_count": null,
      "outputs": [
        {
          "output_type": "stream",
          "text": [
            "a\n",
            "vogal\n"
          ],
          "name": "stdout"
        }
      ]
    },
    {
      "cell_type": "code",
      "metadata": {
        "id": "MDXqNMn1gniF",
        "colab_type": "code",
        "colab": {}
      },
      "source": [
        "def vogal (v):\n",
        "    if v in \"aeiou\": # aqui testa com o operador in\n",
        "        return \"Vogal\"\n",
        "    else:\n",
        "        return \"Consoante\""
      ],
      "execution_count": null,
      "outputs": []
    },
    {
      "cell_type": "code",
      "metadata": {
        "id": "OmRmc_6zgqgt",
        "colab_type": "code",
        "colab": {
          "base_uri": "https://localhost:8080/",
          "height": 35
        },
        "outputId": "52f2bbc9-793a-46ec-9a7f-fb94489171bf"
      },
      "source": [
        "vogal(\"b\")"
      ],
      "execution_count": null,
      "outputs": [
        {
          "output_type": "execute_result",
          "data": {
            "application/vnd.google.colaboratory.intrinsic": {
              "type": "string"
            },
            "text/plain": [
              "'Consoante'"
            ]
          },
          "metadata": {
            "tags": []
          },
          "execution_count": 33
        }
      ]
    },
    {
      "cell_type": "code",
      "metadata": {
        "id": "so2L1Xqtg_js",
        "colab_type": "code",
        "colab": {}
      },
      "source": [
        "#media aluno\n",
        "def media():\n",
        "  def prova(nota1, nota2):\n",
        "    media = (nota1 + nota2) / 2 \n",
        "    if media<3.0:\n",
        "      print('Média= ',media, '-->REPROVADO')\n",
        "    elif media<7.0:\n",
        "      print('Média= ',media, '-->Voce caiu no sistema da universidade, e mesmo sabendo a materia deverá fazer outra prova')\n",
        "    else:\n",
        "      print(media, '-->APROVADO')\n",
        "  n1 = float(input('P1: '))\n",
        "  n2 = float(input('P2: '))\n",
        "  result = prova(n1, n2)\n",
        "  print(result)"
      ],
      "execution_count": null,
      "outputs": []
    },
    {
      "cell_type": "code",
      "metadata": {
        "id": "JCfcXIOF4ePL",
        "colab_type": "code",
        "colab": {
          "base_uri": "https://localhost:8080/",
          "height": 87
        },
        "outputId": "302ded86-25e6-4646-8588-fba0ba699592"
      },
      "source": [
        "media()"
      ],
      "execution_count": null,
      "outputs": [
        {
          "output_type": "stream",
          "text": [
            "P1: 5\n",
            "P2: 6\n",
            "Média=  5.5 -->Voce caiu no sistema da universidade, e mesmo sabendo a materia deverá fazer outra prova\n",
            "None\n"
          ],
          "name": "stdout"
        }
      ]
    },
    {
      "cell_type": "markdown",
      "metadata": {
        "id": "fc85ML8bcsbR",
        "colab_type": "text"
      },
      "source": [
        "## Repetição"
      ]
    },
    {
      "cell_type": "code",
      "metadata": {
        "id": "Nfb90GWEcuRU",
        "colab_type": "code",
        "colab": {
          "base_uri": "https://localhost:8080/",
          "height": 123
        },
        "outputId": "7eaae0d1-e49c-4c0f-9552-773032ce4467"
      },
      "source": [
        "# FOR range\n",
        "# range(start,stop,step). Ou seja: onde ele começa a contar, onde ele para sem contar com esse ultimo, e de quanto em quanto ele anda\n",
        "for x in range(0,18,3):\n",
        "  print(x)"
      ],
      "execution_count": null,
      "outputs": [
        {
          "output_type": "stream",
          "text": [
            "0\n",
            "3\n",
            "6\n",
            "9\n",
            "12\n",
            "15\n"
          ],
          "name": "stdout"
        }
      ]
    },
    {
      "cell_type": "code",
      "metadata": {
        "id": "-xotKE8ShlRy",
        "colab_type": "code",
        "colab": {
          "base_uri": "https://localhost:8080/",
          "height": 141
        },
        "outputId": "08200317-a3ce-423b-ae91-200e86e86ddc"
      },
      "source": [
        "# FOR\n",
        "palavra = \"PALAVRA\"\n",
        "for letra in palavra:\n",
        "  print(letra)"
      ],
      "execution_count": null,
      "outputs": [
        {
          "output_type": "stream",
          "text": [
            "P\n",
            "A\n",
            "L\n",
            "A\n",
            "V\n",
            "R\n",
            "A\n"
          ],
          "name": "stdout"
        }
      ]
    },
    {
      "cell_type": "code",
      "metadata": {
        "id": "a4X4aY2Xhem0",
        "colab_type": "code",
        "colab": {
          "base_uri": "https://localhost:8080/",
          "height": 194
        },
        "outputId": "810fb124-8c38-4999-ec40-9ff5b3b83d7f"
      },
      "source": [
        "# WHILE\n",
        "num = 0\n",
        "while num != 10:\n",
        "  print(num)\n",
        "  num   = num + 1"
      ],
      "execution_count": null,
      "outputs": [
        {
          "output_type": "stream",
          "text": [
            "0\n",
            "1\n",
            "2\n",
            "3\n",
            "4\n",
            "5\n",
            "6\n",
            "7\n",
            "8\n",
            "9\n"
          ],
          "name": "stdout"
        }
      ]
    },
    {
      "cell_type": "code",
      "metadata": {
        "id": "P6NTJOdn5cQT",
        "colab_type": "code",
        "colab": {
          "base_uri": "https://localhost:8080/",
          "height": 70
        },
        "outputId": "43453073-86e1-4db1-d47e-c75a2b0b2913"
      },
      "source": [
        "'''\n",
        "Supondo que a população de um país A seja da ordem de 80000 habitantes \n",
        "com uma taxa anual de crescimento de 3% e que a população de B seja 200000 habitantes \n",
        "com uma taxa de crescimento de 1.5%. \n",
        "Faça um programa que calcule e escreva o número de anos necessários \n",
        "para que a população do país A ultrapasse ou iguale a população do país B, mantidas as taxas de crescimento.\n",
        "\n",
        "'''\n",
        "A = 80000\n",
        "B = 200000 \n",
        "anos = 0\n",
        "txA = 0.03\n",
        "txB = 0.015\n",
        "\n",
        "while (A < B):\n",
        "  anos += 1\n",
        "  A = A + (A * txA)\n",
        "  B = B + (B * txB)\n",
        "\n",
        "print(anos, ' anos')\n",
        "print(A,' habitantes')\n",
        "print(B, ' habitantes')\n",
        "\n",
        "\n",
        "\n",
        "\n"
      ],
      "execution_count": null,
      "outputs": [
        {
          "output_type": "stream",
          "text": [
            "63  anos\n",
            "515033.10280596686  habitantes\n",
            "510964.41696222295  habitantes\n"
          ],
          "name": "stdout"
        }
      ]
    },
    {
      "cell_type": "code",
      "metadata": {
        "id": "o7sB83GZL9q9",
        "colab_type": "code",
        "colab": {
          "base_uri": "https://localhost:8080/",
          "height": 105
        },
        "outputId": "d623a305-5774-4177-b502-6765aad4358e"
      },
      "source": [
        "num1 = int(input(\"Digite um valor entre 0 e 10: \"))\n",
        "while num1 < 0 or num1 > 10:\n",
        "  print(\"Valor inválido!\")\n",
        "  num1 = int(input(\"Digite um valor entre 0 e 10: \"))"
      ],
      "execution_count": null,
      "outputs": [
        {
          "output_type": "stream",
          "text": [
            "Digite um valor entre 0 e 10: 70\n",
            "Valor inválido!\n",
            "Digite um valor entre 0 e 10: 80\n",
            "Valor inválido!\n",
            "Digite um valor entre 0 e 10: 4\n"
          ],
          "name": "stdout"
        }
      ]
    },
    {
      "cell_type": "markdown",
      "metadata": {
        "id": "lm-dZvAocvaa",
        "colab_type": "text"
      },
      "source": [
        "## Funções"
      ]
    },
    {
      "cell_type": "code",
      "metadata": {
        "id": "O8-E-MsarYtn",
        "colab_type": "code",
        "colab": {}
      },
      "source": [
        "def RaizQuadrada(x):\n",
        "  y = 0.5\n",
        "  return x**y"
      ],
      "execution_count": null,
      "outputs": []
    },
    {
      "cell_type": "code",
      "metadata": {
        "id": "HFN2OtbwrijY",
        "colab_type": "code",
        "colab": {
          "base_uri": "https://localhost:8080/",
          "height": 34
        },
        "outputId": "5a8ccee6-d152-49cf-996f-8dafb97880c0"
      },
      "source": [
        "RaizQuadrada(4)"
      ],
      "execution_count": null,
      "outputs": [
        {
          "output_type": "execute_result",
          "data": {
            "text/plain": [
              "2.0"
            ]
          },
          "metadata": {
            "tags": []
          },
          "execution_count": 63
        }
      ]
    },
    {
      "cell_type": "code",
      "metadata": {
        "id": "TCnHj1XvrnXN",
        "colab_type": "code",
        "colab": {}
      },
      "source": [
        "def Maiuscula(x):\n",
        "  return x.upper()"
      ],
      "execution_count": null,
      "outputs": []
    },
    {
      "cell_type": "code",
      "metadata": {
        "id": "nCUM3wHIruas",
        "colab_type": "code",
        "colab": {
          "base_uri": "https://localhost:8080/",
          "height": 35
        },
        "outputId": "e1eb1ba7-f3d2-47bf-80a5-ee98f1d0aa5a"
      },
      "source": [
        "Maiuscula(\"vinicius\")"
      ],
      "execution_count": null,
      "outputs": [
        {
          "output_type": "execute_result",
          "data": {
            "application/vnd.google.colaboratory.intrinsic": {
              "type": "string"
            },
            "text/plain": [
              "'VINICIUS'"
            ]
          },
          "metadata": {
            "tags": []
          },
          "execution_count": 66
        }
      ]
    },
    {
      "cell_type": "code",
      "metadata": {
        "id": "zb4DY0ttNvEs",
        "colab_type": "code",
        "colab": {
          "base_uri": "https://localhost:8080/",
          "height": 34
        },
        "outputId": "51a479eb-8740-499f-ca78-57e7b4dd5023"
      },
      "source": [
        "def Func(a,b,c):\n",
        "  return a+b+c \n",
        "\n",
        "Func(-12,-134,128)"
      ],
      "execution_count": null,
      "outputs": [
        {
          "output_type": "execute_result",
          "data": {
            "text/plain": [
              "-18"
            ]
          },
          "metadata": {
            "tags": []
          },
          "execution_count": 67
        }
      ]
    }
  ]
}